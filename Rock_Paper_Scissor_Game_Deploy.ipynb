{
  "nbformat": 4,
  "nbformat_minor": 0,
  "metadata": {
    "colab": {
      "provenance": [],
      "authorship_tag": "ABX9TyMDImClFSL80ge6/AkAbmH4",
      "include_colab_link": true
    },
    "kernelspec": {
      "name": "python3",
      "display_name": "Python 3"
    },
    "language_info": {
      "name": "python"
    }
  },
  "cells": [
    {
      "cell_type": "markdown",
      "metadata": {
        "id": "view-in-github",
        "colab_type": "text"
      },
      "source": [
        "<a href=\"https://colab.research.google.com/github/sabbirakash/Rock_Paper_Scissor_Game/blob/main/Rock_Paper_Scissor_Game_Deploy.ipynb\" target=\"_parent\"><img src=\"https://colab.research.google.com/assets/colab-badge.svg\" alt=\"Open In Colab\"/></a>"
      ]
    },
    {
      "cell_type": "code",
      "execution_count": null,
      "metadata": {
        "id": "msZORb-Uv4bc"
      },
      "outputs": [],
      "source": [
        "import streamlit as st\n",
        "import random\n",
        "\n",
        "# Dictionary setup\n",
        "yourDict = {\"R\": -1, \"P\": 0, \"S\": 1}\n",
        "reverseDict = {-1: \"Rock\", 0: \"Paper\", 1: \"Scissor\"}\n",
        "\n",
        "st.title(\"🪨📄✂️ Rock Paper Scissor Game\")\n",
        "st.markdown(\"#### Choose your option below:\")\n",
        "\n",
        "# Streamlit input\n",
        "your_choice = st.radio(\"Your Move:\", options=[\"R\", \"P\", \"S\"], index=0, horizontal=True)\n",
        "\n",
        "# Play button\n",
        "if st.button(\"Play!\"):\n",
        "    Abs = random.choice([-1, 0, 1])  # Computer choice\n",
        "    you = yourDict[your_choice]\n",
        "\n",
        "    st.write(f\"🧑 You chose: **{reverseDict[you]}**\")\n",
        "    st.write(f\"🤖 Abs chose: **{reverseDict[Abs]}**\")\n",
        "\n",
        "    if Abs == you:\n",
        "        st.info(\"It's a Draw! Try Again.\")\n",
        "    else:\n",
        "        if Abs == 1 and you == 0:\n",
        "            st.error(\"✂️ Scissor cuts Paper. You Lose! Abs Wins!\")\n",
        "        elif Abs == 1 and you == -1:\n",
        "            st.success(\"🪨 Rock crushes Scissor. You Win!\")\n",
        "        elif Abs == 0 and you == 1:\n",
        "            st.success(\"✂️ Scissor cuts Paper. You Win!\")\n",
        "        elif Abs == 0 and you == -1:\n",
        "            st.error(\"📄 Paper wraps Rock. You Lose! Abs Wins!\")\n",
        "        elif Abs == -1 and you == 1:\n",
        "            st.error(\"🪨 Rock crushes Scissor. You Lose! Abs Wins!\")\n",
        "        elif Abs == -1 and you == 0:\n",
        "            st.success(\"📄 Paper wraps Rock. You Win!\")\n"
      ]
    }
  ]
}