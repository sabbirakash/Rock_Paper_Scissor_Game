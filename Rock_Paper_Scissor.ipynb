{
  "nbformat": 4,
  "nbformat_minor": 0,
  "metadata": {
    "colab": {
      "provenance": [],
      "authorship_tag": "ABX9TyMQaVLxysVHDRZgu6mGQVrA",
      "include_colab_link": true
    },
    "kernelspec": {
      "name": "python3",
      "display_name": "Python 3"
    },
    "language_info": {
      "name": "python"
    }
  },
  "cells": [
    {
      "cell_type": "markdown",
      "metadata": {
        "id": "view-in-github",
        "colab_type": "text"
      },
      "source": [
        "<a href=\"https://colab.research.google.com/github/sabbirakash/Rock_Paper_Scissor_Game/blob/main/Rock_Paper_Scissor.ipynb\" target=\"_parent\"><img src=\"https://colab.research.google.com/assets/colab-badge.svg\" alt=\"Open In Colab\"/></a>"
      ]
    },
    {
      "cell_type": "code",
      "source": [
        "import random\n",
        "computer = random.choice([-1 ,0, 1])\n",
        "print(\"Welcome to the ROCK-PAPER-SCISSOR GAME!\\nR for Rock, P for Paper, S for Scissor\\nChoose your option carefully!\")\n",
        "your_str = input(\"Enter your choice : \").upper()\n",
        "yourDict = {\"R\": -1, \"P\" : 0, \"S\" : 1}\n",
        "reverseDict = {-1 : \"Rock\" , 0 : \"Paper\", 1 : \"Scissor\"}\n",
        "\n",
        "you = yourDict[your_str]\n",
        "\n",
        "print(f\"You choose {reverseDict[you]}\\nComputer choose {reverseDict[computer]}\")\n",
        "\n",
        "if computer == you:\n",
        "  print(\"It's a Draw!\\nTry Again.\")\n",
        "else :\n",
        "  if computer == 1 and you == 0:\n",
        "    print(\"Scissor can cut Papers.\\nYou Loss!\")\n",
        "  elif computer == 1 and you == -1:\n",
        "    print(\"Rock can crush Scissor.\\nYou Win!\")\n",
        "  elif computer == 0 and you == 1:\n",
        "    print(\"Scissor can cut Papers.\\nYou Win!\")\n",
        "  elif computer == 0 and you == -1:\n",
        "    print(\"Paper can wrap Rock.\\nYou Loss!\")\n",
        "  elif computer == -1 and you == 1:\n",
        "    print(\"Rock can crush Scissor.\\nYou Loss!\")\n",
        "  elif computer == -1 and you == 0:\n",
        "    print(\"Paper can wrap Rock. \\nYou Win!\")"
      ],
      "metadata": {
        "colab": {
          "base_uri": "https://localhost:8080/"
        },
        "id": "07uWT3e8nNCJ",
        "outputId": "72f4d5ad-f411-46b2-bd7f-fe092dbe6bb7"
      },
      "execution_count": 7,
      "outputs": [
        {
          "output_type": "stream",
          "name": "stdout",
          "text": [
            "Welcome to the ROCK-PAPER-SCISSOR GAME!\n",
            "R for Rock, P for Paper, S for Scissor\n",
            "Choose your option carefully!\n",
            "Enter your choice : p\n",
            "You choose Paper\n",
            "Computer choose Rock\n",
            "Paper can wrap Rock. \n",
            "You Win!\n"
          ]
        }
      ]
    },
    {
      "cell_type": "code",
      "source": [],
      "metadata": {
        "id": "_0MPHGhvqbNl"
      },
      "execution_count": 1,
      "outputs": []
    }
  ]
}